{
 "cells": [
  {
   "cell_type": "code",
   "execution_count": 10,
   "metadata": {},
   "outputs": [],
   "source": [
    "import datetime\n",
    "from dateutil.relativedelta import relativedelta\n",
    "\n"
   ]
  },
  {
   "cell_type": "code",
   "execution_count": 34,
   "metadata": {},
   "outputs": [],
   "source": [
    "def get_paths(date=None):\n",
    "    if not date:\n",
    "        used_date = datetime.date.today()\n",
    "    if date:        \n",
    "        try:\n",
    "            used_date =  datetime.date.fromisoformat(date)  \n",
    "        except ValueError:\n",
    "            raise ValueError(\"Incorrect data format, should be YYYY-MM-DD\")  \n",
    "    one_m_ago = used_date - relativedelta(months=1)\n",
    "    two_m_ago = used_date - relativedelta(months=2)\n",
    "    return f\"../data/green_tripdata_{two_m_ago.strftime('%Y-%m')}.parquet\", f\"../data/green_tripdata_{one_m_ago.strftime('%Y-%m')}.parquet\""
   ]
  },
  {
   "cell_type": "code",
   "execution_count": 38,
   "metadata": {},
   "outputs": [
    {
     "data": {
      "text/plain": [
       "('../data/green_tripdata_2021-06.parquet',\n",
       " '../data/green_tripdata_2021-07.parquet')"
      ]
     },
     "execution_count": 38,
     "metadata": {},
     "output_type": "execute_result"
    }
   ],
   "source": [
    "get_paths('2021-08-15')"
   ]
  },
  {
   "cell_type": "code",
   "execution_count": null,
   "metadata": {},
   "outputs": [],
   "source": []
  }
 ],
 "metadata": {
  "kernelspec": {
   "display_name": "godel",
   "language": "python",
   "name": "python3"
  },
  "language_info": {
   "codemirror_mode": {
    "name": "ipython",
    "version": 3
   },
   "file_extension": ".py",
   "mimetype": "text/x-python",
   "name": "python",
   "nbconvert_exporter": "python",
   "pygments_lexer": "ipython3",
   "version": "3.8.15"
  },
  "orig_nbformat": 4
 },
 "nbformat": 4,
 "nbformat_minor": 2
}
